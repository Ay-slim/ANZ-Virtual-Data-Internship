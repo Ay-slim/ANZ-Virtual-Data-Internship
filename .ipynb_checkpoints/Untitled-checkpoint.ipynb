{
 "cells": [
  {
   "cell_type": "code",
   "execution_count": 142,
   "metadata": {},
   "outputs": [
    {
     "name": "stdout",
     "output_type": "stream",
     "text": [
      "Collecting package metadata (current_repodata.json): ...working... done\n",
      "Solving environment: ...working... failed with initial frozen solve. Retrying with flexible solve.\n",
      "Solving environment: ...working... failed with repodata from current_repodata.json, will retry with next repodata source.\n",
      "Collecting package metadata (repodata.json): ...working... done\n",
      "Solving environment: ...working... done\n",
      "\n",
      "## Package Plan ##\n",
      "\n",
      "  environment location: C:\\Users\\user\\Anaconda3\n",
      "\n",
      "  added / updated specs:\n",
      "    - basemap\n",
      "\n",
      "\n",
      "The following packages will be downloaded:\n",
      "\n",
      "    package                    |            build\n",
      "    ---------------------------|-----------------\n",
      "    basemap-1.2.0              |   py37h0354792_4        14.4 MB\n",
      "    conda-4.8.4                |           py37_0         2.9 MB\n",
      "    geos-3.8.0                 |       h33f27b4_0         905 KB\n",
      "    openssl-1.1.1d             |       he774522_2         4.8 MB\n",
      "    proj4-5.2.0                |       ha925a31_1         3.1 MB\n",
      "    pyproj-1.9.6               |   py37h6782396_0         233 KB\n",
      "    pyshp-2.1.0                |             py_0          35 KB\n",
      "    ------------------------------------------------------------\n",
      "                                           Total:        26.3 MB\n",
      "\n",
      "The following NEW packages will be INSTALLED:\n",
      "\n",
      "  basemap            pkgs/main/win-64::basemap-1.2.0-py37h0354792_4\n",
      "  geos               pkgs/main/win-64::geos-3.8.0-h33f27b4_0\n",
      "  proj4              pkgs/main/win-64::proj4-5.2.0-ha925a31_1\n",
      "  pyproj             pkgs/main/win-64::pyproj-1.9.6-py37h6782396_0\n",
      "  pyshp              pkgs/main/noarch::pyshp-2.1.0-py_0\n",
      "\n",
      "The following packages will be SUPERSEDED by a higher-priority channel:\n",
      "\n",
      "  conda              conda-forge::conda-4.8.4-py37hc8dfbb8~ --> pkgs/main::conda-4.8.4-py37_0\n",
      "  openssl                                          anaconda --> pkgs/main\n",
      "\n",
      "\n",
      "\n",
      "Downloading and Extracting Packages\n",
      "\n",
      "basemap-1.2.0        | 14.4 MB   |            |   0% \n",
      "basemap-1.2.0        | 14.4 MB   |            |   0% \n",
      "basemap-1.2.0        | 14.4 MB   |            |   0% \n",
      "basemap-1.2.0        | 14.4 MB   |            |   1% \n",
      "basemap-1.2.0        | 14.4 MB   | 1          |   1% \n",
      "basemap-1.2.0        | 14.4 MB   | 1          |   2% \n",
      "basemap-1.2.0        | 14.4 MB   | 2          |   2% \n",
      "basemap-1.2.0        | 14.4 MB   | 2          |   2% \n",
      "basemap-1.2.0        | 14.4 MB   | 2          |   3% \n",
      "basemap-1.2.0        | 14.4 MB   | 3          |   3% \n",
      "basemap-1.2.0        | 14.4 MB   | 3          |   4% \n",
      "basemap-1.2.0        | 14.4 MB   | 3          |   4% \n",
      "basemap-1.2.0        | 14.4 MB   | 4          |   4% \n",
      "basemap-1.2.0        | 14.4 MB   | 4          |   5% \n",
      "basemap-1.2.0        | 14.4 MB   | 4          |   5% \n",
      "basemap-1.2.0        | 14.4 MB   | 5          |   5% \n",
      "basemap-1.2.0        | 14.4 MB   | 5          |   6% \n",
      "basemap-1.2.0        | 14.4 MB   | 5          |   6% \n",
      "basemap-1.2.0        | 14.4 MB   | 6          |   6% \n",
      "basemap-1.2.0        | 14.4 MB   | 6          |   7% \n",
      "basemap-1.2.0        | 14.4 MB   | 6          |   7% \n",
      "basemap-1.2.0        | 14.4 MB   | 7          |   7% \n",
      "basemap-1.2.0        | 14.4 MB   | 7          |   7% \n",
      "basemap-1.2.0        | 14.4 MB   | 7          |   8% \n",
      "basemap-1.2.0        | 14.4 MB   | 8          |   8% \n",
      "basemap-1.2.0        | 14.4 MB   | 8          |   8% \n",
      "basemap-1.2.0        | 14.4 MB   | 8          |   9% \n",
      "basemap-1.2.0        | 14.4 MB   | 9          |   9% \n",
      "basemap-1.2.0        | 14.4 MB   | 9          |  10% \n",
      "basemap-1.2.0        | 14.4 MB   | 9          |  10% \n",
      "basemap-1.2.0        | 14.4 MB   | #          |  10% \n",
      "basemap-1.2.0        | 14.4 MB   | #          |  11% \n",
      "basemap-1.2.0        | 14.4 MB   | #          |  11% \n",
      "basemap-1.2.0        | 14.4 MB   | #1         |  11% \n",
      "basemap-1.2.0        | 14.4 MB   | #1         |  12% \n",
      "basemap-1.2.0        | 14.4 MB   | #2         |  12% \n",
      "basemap-1.2.0        | 14.4 MB   | #2         |  13% \n",
      "basemap-1.2.0        | 14.4 MB   | #2         |  13% \n",
      "basemap-1.2.0        | 14.4 MB   | #3         |  13% \n",
      "basemap-1.2.0        | 14.4 MB   | #3         |  14% \n",
      "basemap-1.2.0        | 14.4 MB   | #3         |  14% \n",
      "basemap-1.2.0        | 14.4 MB   | #4         |  14% \n",
      "basemap-1.2.0        | 14.4 MB   | #4         |  15% \n",
      "basemap-1.2.0        | 14.4 MB   | #4         |  15% \n",
      "basemap-1.2.0        | 14.4 MB   | #5         |  15% \n",
      "basemap-1.2.0        | 14.4 MB   | #5         |  16% \n",
      "basemap-1.2.0        | 14.4 MB   | #5         |  16% \n",
      "basemap-1.2.0        | 14.4 MB   | #6         |  16% \n",
      "basemap-1.2.0        | 14.4 MB   | #6         |  17% \n",
      "basemap-1.2.0        | 14.4 MB   | #6         |  17% \n",
      "basemap-1.2.0        | 14.4 MB   | #7         |  17% \n",
      "basemap-1.2.0        | 14.4 MB   | #7         |  18% \n",
      "basemap-1.2.0        | 14.4 MB   | #7         |  18% \n",
      "basemap-1.2.0        | 14.4 MB   | #8         |  18% \n",
      "basemap-1.2.0        | 14.4 MB   | #8         |  18% \n",
      "basemap-1.2.0        | 14.4 MB   | #8         |  19% \n",
      "basemap-1.2.0        | 14.4 MB   | #9         |  19% \n",
      "basemap-1.2.0        | 14.4 MB   | #9         |  20% \n",
      "basemap-1.2.0        | 14.4 MB   | #9         |  20% \n",
      "basemap-1.2.0        | 14.4 MB   | ##         |  20% \n",
      "basemap-1.2.0        | 14.4 MB   | ##         |  21% \n",
      "basemap-1.2.0        | 14.4 MB   | ##         |  21% \n",
      "basemap-1.2.0        | 14.4 MB   | ##1        |  21% \n",
      "basemap-1.2.0        | 14.4 MB   | ##1        |  22% \n",
      "basemap-1.2.0        | 14.4 MB   | ##1        |  22% \n",
      "basemap-1.2.0        | 14.4 MB   | ##2        |  22% \n",
      "basemap-1.2.0        | 14.4 MB   | ##2        |  23% \n",
      "basemap-1.2.0        | 14.4 MB   | ##2        |  23% \n",
      "basemap-1.2.0        | 14.4 MB   | ##3        |  23% \n",
      "basemap-1.2.0        | 14.4 MB   | ##3        |  24% \n",
      "basemap-1.2.0        | 14.4 MB   | ##3        |  24% \n",
      "basemap-1.2.0        | 14.4 MB   | ##4        |  24% \n",
      "basemap-1.2.0        | 14.4 MB   | ##4        |  25% \n",
      "basemap-1.2.0        | 14.4 MB   | ##4        |  25% \n",
      "basemap-1.2.0        | 14.4 MB   | ##5        |  25% \n",
      "basemap-1.2.0        | 14.4 MB   | ##5        |  25% \n",
      "basemap-1.2.0        | 14.4 MB   | ##5        |  26% \n",
      "basemap-1.2.0        | 14.4 MB   | ##6        |  26% \n",
      "basemap-1.2.0        | 14.4 MB   | ##6        |  27% \n",
      "basemap-1.2.0        | 14.4 MB   | ##6        |  27% \n",
      "basemap-1.2.0        | 14.4 MB   | ##7        |  27% \n",
      "basemap-1.2.0        | 14.4 MB   | ##7        |  28% \n",
      "basemap-1.2.0        | 14.4 MB   | ##7        |  28% \n",
      "basemap-1.2.0        | 14.4 MB   | ##8        |  28% \n",
      "basemap-1.2.0        | 14.4 MB   | ##8        |  29% \n",
      "basemap-1.2.0        | 14.4 MB   | ##8        |  29% \n",
      "basemap-1.2.0        | 14.4 MB   | ##9        |  29% \n",
      "basemap-1.2.0        | 14.4 MB   | ##9        |  29% \n",
      "basemap-1.2.0        | 14.4 MB   | ##9        |  30% \n",
      "basemap-1.2.0        | 14.4 MB   | ###        |  30% \n",
      "basemap-1.2.0        | 14.4 MB   | ###        |  30% \n",
      "basemap-1.2.0        | 14.4 MB   | ###        |  31% \n",
      "basemap-1.2.0        | 14.4 MB   | ###1       |  31% \n",
      "basemap-1.2.0        | 14.4 MB   | ###1       |  31% \n",
      "basemap-1.2.0        | 14.4 MB   | ###1       |  32% \n",
      "basemap-1.2.0        | 14.4 MB   | ###2       |  32% \n",
      "basemap-1.2.0        | 14.4 MB   | ###2       |  33% \n",
      "basemap-1.2.0        | 14.4 MB   | ###3       |  33% \n",
      "basemap-1.2.0        | 14.4 MB   | ###3       |  33% \n",
      "basemap-1.2.0        | 14.4 MB   | ###3       |  34% \n",
      "basemap-1.2.0        | 14.4 MB   | ###4       |  34% \n",
      "basemap-1.2.0        | 14.4 MB   | ###4       |  34% \n",
      "basemap-1.2.0        | 14.4 MB   | ###4       |  35% \n",
      "basemap-1.2.0        | 14.4 MB   | ###5       |  35% \n",
      "basemap-1.2.0        | 14.4 MB   | ###5       |  35% \n",
      "basemap-1.2.0        | 14.4 MB   | ###5       |  36% \n",
      "basemap-1.2.0        | 14.4 MB   | ###6       |  36% \n",
      "basemap-1.2.0        | 14.4 MB   | ###6       |  37% \n",
      "basemap-1.2.0        | 14.4 MB   | ###6       |  37% \n",
      "basemap-1.2.0        | 14.4 MB   | ###7       |  37% \n",
      "basemap-1.2.0        | 14.4 MB   | ###7       |  38% \n",
      "basemap-1.2.0        | 14.4 MB   | ###8       |  38% \n",
      "basemap-1.2.0        | 14.4 MB   | ###8       |  38% \n",
      "basemap-1.2.0        | 14.4 MB   | ###8       |  39% \n",
      "basemap-1.2.0        | 14.4 MB   | ###9       |  39% \n",
      "basemap-1.2.0        | 14.4 MB   | ###9       |  39% \n",
      "basemap-1.2.0        | 14.4 MB   | ###9       |  40% \n",
      "basemap-1.2.0        | 14.4 MB   | ####       |  40% \n",
      "basemap-1.2.0        | 14.4 MB   | ####       |  40% \n",
      "basemap-1.2.0        | 14.4 MB   | ####       |  41% \n",
      "basemap-1.2.0        | 14.4 MB   | ####       |  41% \n",
      "basemap-1.2.0        | 14.4 MB   | ####1      |  41% \n",
      "basemap-1.2.0        | 14.4 MB   | ####1      |  42% \n",
      "basemap-1.2.0        | 14.4 MB   | ####2      |  42% \n",
      "basemap-1.2.0        | 14.4 MB   | ####2      |  42% \n",
      "basemap-1.2.0        | 14.4 MB   | ####2      |  43% \n",
      "basemap-1.2.0        | 14.4 MB   | ####3      |  43% \n",
      "basemap-1.2.0        | 14.4 MB   | ####3      |  43% \n",
      "basemap-1.2.0        | 14.4 MB   | ####3      |  44% \n",
      "basemap-1.2.0        | 14.4 MB   | ####4      |  44% \n",
      "basemap-1.2.0        | 14.4 MB   | ####4      |  44% \n",
      "basemap-1.2.0        | 14.4 MB   | ####4      |  45% \n",
      "basemap-1.2.0        | 14.4 MB   | ####4      |  45% \n",
      "basemap-1.2.0        | 14.4 MB   | ####5      |  45% \n",
      "basemap-1.2.0        | 14.4 MB   | ####5      |  46% \n",
      "basemap-1.2.0        | 14.4 MB   | ####6      |  46% \n",
      "basemap-1.2.0        | 14.4 MB   | ####6      |  47% \n",
      "basemap-1.2.0        | 14.4 MB   | ####6      |  47% \n",
      "basemap-1.2.0        | 14.4 MB   | ####7      |  47% \n",
      "basemap-1.2.0        | 14.4 MB   | ####7      |  47% \n",
      "basemap-1.2.0        | 14.4 MB   | ####7      |  48% \n",
      "basemap-1.2.0        | 14.4 MB   | ####8      |  48% \n",
      "basemap-1.2.0        | 14.4 MB   | ####8      |  49% \n",
      "basemap-1.2.0        | 14.4 MB   | ####9      |  49% \n",
      "basemap-1.2.0        | 14.4 MB   | ####9      |  49% \n",
      "basemap-1.2.0        | 14.4 MB   | ####9      |  50% \n",
      "basemap-1.2.0        | 14.4 MB   | #####      |  50% \n",
      "basemap-1.2.0        | 14.4 MB   | #####      |  50% \n",
      "basemap-1.2.0        | 14.4 MB   | #####      |  51% \n",
      "basemap-1.2.0        | 14.4 MB   | #####1     |  51% \n",
      "basemap-1.2.0        | 14.4 MB   | #####1     |  51% \n",
      "basemap-1.2.0        | 14.4 MB   | #####1     |  52% \n",
      "basemap-1.2.0        | 14.4 MB   | #####2     |  52% \n",
      "basemap-1.2.0        | 14.4 MB   | #####2     |  52% \n",
      "basemap-1.2.0        | 14.4 MB   | #####2     |  53% \n",
      "basemap-1.2.0        | 14.4 MB   | #####3     |  53% \n",
      "basemap-1.2.0        | 14.4 MB   | #####3     |  53% \n",
      "basemap-1.2.0        | 14.4 MB   | #####3     |  54% \n",
      "basemap-1.2.0        | 14.4 MB   | #####3     |  54% \n",
      "basemap-1.2.0        | 14.4 MB   | #####4     |  54% \n",
      "basemap-1.2.0        | 14.4 MB   | #####4     |  55% \n",
      "basemap-1.2.0        | 14.4 MB   | #####5     |  55% \n",
      "basemap-1.2.0        | 14.4 MB   | #####5     |  56% \n",
      "basemap-1.2.0        | 14.4 MB   | #####5     |  56% \n",
      "basemap-1.2.0        | 14.4 MB   | #####6     |  56% \n",
      "basemap-1.2.0        | 14.4 MB   | #####6     |  56% \n",
      "basemap-1.2.0        | 14.4 MB   | #####6     |  57% \n",
      "basemap-1.2.0        | 14.4 MB   | #####7     |  57% \n",
      "basemap-1.2.0        | 14.4 MB   | #####7     |  57% \n",
      "basemap-1.2.0        | 14.4 MB   | #####7     |  58% \n",
      "basemap-1.2.0        | 14.4 MB   | #####8     |  58% \n",
      "basemap-1.2.0        | 14.4 MB   | #####8     |  58% \n",
      "basemap-1.2.0        | 14.4 MB   | #####8     |  59% \n",
      "basemap-1.2.0        | 14.4 MB   | #####9     |  59% \n",
      "basemap-1.2.0        | 14.4 MB   | #####9     |  60% \n",
      "basemap-1.2.0        | 14.4 MB   | #####9     |  60% \n",
      "basemap-1.2.0        | 14.4 MB   | ######     |  60% \n",
      "basemap-1.2.0        | 14.4 MB   | ######     |  61% \n",
      "basemap-1.2.0        | 14.4 MB   | ######     |  61% \n",
      "basemap-1.2.0        | 14.4 MB   | ######1    |  61% \n",
      "basemap-1.2.0        | 14.4 MB   | ######1    |  62% \n",
      "basemap-1.2.0        | 14.4 MB   | ######2    |  62% \n",
      "basemap-1.2.0        | 14.4 MB   | ######2    |  62% \n",
      "basemap-1.2.0        | 14.4 MB   | ######2    |  63% \n",
      "basemap-1.2.0        | 14.4 MB   | ######3    |  63% \n",
      "basemap-1.2.0        | 14.4 MB   | ######3    |  64% \n",
      "basemap-1.2.0        | 14.4 MB   | ######4    |  64% \n",
      "basemap-1.2.0        | 14.4 MB   | ######4    |  65% \n",
      "basemap-1.2.0        | 14.4 MB   | ######4    |  65% \n",
      "basemap-1.2.0        | 14.4 MB   | ######5    |  65% \n",
      "basemap-1.2.0        | 14.4 MB   | ######5    |  66% \n",
      "basemap-1.2.0        | 14.4 MB   | ######5    |  66% \n",
      "basemap-1.2.0        | 14.4 MB   | ######6    |  66% \n",
      "basemap-1.2.0        | 14.4 MB   | ######6    |  67% \n",
      "basemap-1.2.0        | 14.4 MB   | ######6    |  67% \n",
      "basemap-1.2.0        | 14.4 MB   | ######7    |  67% \n",
      "basemap-1.2.0        | 14.4 MB   | ######7    |  68% \n",
      "basemap-1.2.0        | 14.4 MB   | ######7    |  68% \n",
      "basemap-1.2.0        | 14.4 MB   | ######7    |  68% \n",
      "basemap-1.2.0        | 14.4 MB   | ######8    |  68% \n",
      "basemap-1.2.0        | 14.4 MB   | ######8    |  69% \n",
      "basemap-1.2.0        | 14.4 MB   | ######8    |  69% \n",
      "basemap-1.2.0        | 14.4 MB   | ######9    |  69% \n",
      "basemap-1.2.0        | 14.4 MB   | ######9    |  70% \n",
      "basemap-1.2.0        | 14.4 MB   | #######    |  70% \n",
      "basemap-1.2.0        | 14.4 MB   | #######    |  70% \n",
      "basemap-1.2.0        | 14.4 MB   | #######    |  71% \n",
      "basemap-1.2.0        | 14.4 MB   | #######1   |  71% \n",
      "basemap-1.2.0        | 14.4 MB   | #######1   |  71% \n",
      "basemap-1.2.0        | 14.4 MB   | #######1   |  72% \n",
      "basemap-1.2.0        | 14.4 MB   | #######2   |  72% \n",
      "basemap-1.2.0        | 14.4 MB   | #######2   |  72% \n",
      "basemap-1.2.0        | 14.4 MB   | #######2   |  73% \n",
      "basemap-1.2.0        | 14.4 MB   | #######3   |  73% \n",
      "basemap-1.2.0        | 14.4 MB   | #######3   |  73% \n",
      "basemap-1.2.0        | 14.4 MB   | #######3   |  74% \n",
      "basemap-1.2.0        | 14.4 MB   | #######4   |  74% \n",
      "basemap-1.2.0        | 14.4 MB   | #######4   |  74% \n",
      "basemap-1.2.0        | 14.4 MB   | #######4   |  75% \n",
      "basemap-1.2.0        | 14.4 MB   | #######5   |  75% \n",
      "basemap-1.2.0        | 14.4 MB   | #######5   |  76% \n",
      "basemap-1.2.0        | 14.4 MB   | #######5   |  76% \n",
      "basemap-1.2.0        | 14.4 MB   | #######6   |  76% \n",
      "basemap-1.2.0        | 14.4 MB   | #######6   |  77% \n",
      "basemap-1.2.0        | 14.4 MB   | #######6   |  77% \n",
      "basemap-1.2.0        | 14.4 MB   | #######7   |  77% \n",
      "basemap-1.2.0        | 14.4 MB   | #######7   |  78% \n",
      "basemap-1.2.0        | 14.4 MB   | #######7   |  78% \n",
      "basemap-1.2.0        | 14.4 MB   | #######8   |  78% \n",
      "basemap-1.2.0        | 14.4 MB   | #######8   |  79% \n",
      "basemap-1.2.0        | 14.4 MB   | #######8   |  79% \n",
      "basemap-1.2.0        | 14.4 MB   | #######9   |  79% \n",
      "basemap-1.2.0        | 14.4 MB   | #######9   |  80% \n",
      "basemap-1.2.0        | 14.4 MB   | #######9   |  80% \n",
      "basemap-1.2.0        | 14.4 MB   | ########   |  80% \n",
      "basemap-1.2.0        | 14.4 MB   | ########   |  81% \n",
      "basemap-1.2.0        | 14.4 MB   | ########   |  81% \n",
      "basemap-1.2.0        | 14.4 MB   | ########1  |  81% \n",
      "basemap-1.2.0        | 14.4 MB   | ########1  |  82% \n",
      "basemap-1.2.0        | 14.4 MB   | ########2  |  82% \n",
      "basemap-1.2.0        | 14.4 MB   | ########2  |  82% \n",
      "basemap-1.2.0        | 14.4 MB   | ########2  |  83% \n",
      "basemap-1.2.0        | 14.4 MB   | ########3  |  83% \n",
      "basemap-1.2.0        | 14.4 MB   | ########3  |  83% \n",
      "basemap-1.2.0        | 14.4 MB   | ########3  |  84% \n",
      "basemap-1.2.0        | 14.4 MB   | ########4  |  84% \n",
      "basemap-1.2.0        | 14.4 MB   | ########4  |  84% \n",
      "basemap-1.2.0        | 14.4 MB   | ########4  |  85% \n",
      "basemap-1.2.0        | 14.4 MB   | ########4  |  85% \n",
      "basemap-1.2.0        | 14.4 MB   | ########5  |  85% \n",
      "basemap-1.2.0        | 14.4 MB   | ########5  |  86% \n",
      "basemap-1.2.0        | 14.4 MB   | ########5  |  86% \n",
      "basemap-1.2.0        | 14.4 MB   | ########6  |  86% \n",
      "basemap-1.2.0        | 14.4 MB   | ########6  |  87% \n",
      "basemap-1.2.0        | 14.4 MB   | ########6  |  87% \n",
      "basemap-1.2.0        | 14.4 MB   | ########7  |  87% \n",
      "basemap-1.2.0        | 14.4 MB   | ########7  |  88% \n",
      "basemap-1.2.0        | 14.4 MB   | ########7  |  88% \n",
      "basemap-1.2.0        | 14.4 MB   | ########8  |  88% \n",
      "basemap-1.2.0        | 14.4 MB   | ########8  |  89% \n",
      "basemap-1.2.0        | 14.4 MB   | ########8  |  89% \n",
      "basemap-1.2.0        | 14.4 MB   | ########9  |  89% \n",
      "basemap-1.2.0        | 14.4 MB   | ########9  |  90% \n",
      "basemap-1.2.0        | 14.4 MB   | ########9  |  90% \n",
      "basemap-1.2.0        | 14.4 MB   | #########  |  90% \n",
      "basemap-1.2.0        | 14.4 MB   | #########  |  91% \n",
      "basemap-1.2.0        | 14.4 MB   | #########1 |  91% \n",
      "basemap-1.2.0        | 14.4 MB   | #########1 |  92% \n",
      "basemap-1.2.0        | 14.4 MB   | #########2 |  92% \n",
      "basemap-1.2.0        | 14.4 MB   | #########2 |  93% \n",
      "basemap-1.2.0        | 14.4 MB   | #########2 |  93% \n",
      "basemap-1.2.0        | 14.4 MB   | #########3 |  93% \n",
      "basemap-1.2.0        | 14.4 MB   | #########3 |  94% \n",
      "basemap-1.2.0        | 14.4 MB   | #########3 |  94% \n",
      "basemap-1.2.0        | 14.4 MB   | #########4 |  94% \n",
      "basemap-1.2.0        | 14.4 MB   | #########4 |  95% \n",
      "basemap-1.2.0        | 14.4 MB   | #########4 |  95% \n",
      "basemap-1.2.0        | 14.4 MB   | #########5 |  95% \n",
      "basemap-1.2.0        | 14.4 MB   | #########5 |  96% \n",
      "basemap-1.2.0        | 14.4 MB   | #########5 |  96% \n",
      "basemap-1.2.0        | 14.4 MB   | #########6 |  96% \n",
      "basemap-1.2.0        | 14.4 MB   | #########6 |  97% \n",
      "basemap-1.2.0        | 14.4 MB   | #########7 |  97% \n",
      "basemap-1.2.0        | 14.4 MB   | #########7 |  97% \n",
      "basemap-1.2.0        | 14.4 MB   | #########7 |  98% \n",
      "basemap-1.2.0        | 14.4 MB   | #########8 |  98% \n",
      "basemap-1.2.0        | 14.4 MB   | #########8 |  99% \n",
      "basemap-1.2.0        | 14.4 MB   | #########8 |  99% \n",
      "basemap-1.2.0        | 14.4 MB   | #########9 |  99% \n",
      "basemap-1.2.0        | 14.4 MB   | #########9 | 100% \n",
      "basemap-1.2.0        | 14.4 MB   | ########## | 100% \n",
      "basemap-1.2.0        | 14.4 MB   | ########## | 100% \n",
      "\n",
      "pyshp-2.1.0          | 35 KB     |            |   0% \n",
      "pyshp-2.1.0          | 35 KB     | ####5      |  46% \n",
      "pyshp-2.1.0          | 35 KB     | ########## | 100% \n",
      "pyshp-2.1.0          | 35 KB     | ########## | 100% \n",
      "\n",
      "proj4-5.2.0          | 3.1 MB    |            |   0% \n",
      "proj4-5.2.0          | 3.1 MB    |            |   1% \n",
      "proj4-5.2.0          | 3.1 MB    | 1          |   2% \n",
      "proj4-5.2.0          | 3.1 MB    | 3          |   4% \n",
      "proj4-5.2.0          | 3.1 MB    | 5          |   6% \n",
      "proj4-5.2.0          | 3.1 MB    | 7          |   8% \n",
      "proj4-5.2.0          | 3.1 MB    | 8          |   9% \n",
      "proj4-5.2.0          | 3.1 MB    | #          |  10% \n",
      "proj4-5.2.0          | 3.1 MB    | #1         |  12% \n",
      "proj4-5.2.0          | 3.1 MB    | #3         |  14% \n",
      "proj4-5.2.0          | 3.1 MB    | #5         |  15% \n",
      "proj4-5.2.0          | 3.1 MB    | #6         |  17% \n",
      "proj4-5.2.0          | 3.1 MB    | #8         |  18% \n",
      "proj4-5.2.0          | 3.1 MB    | #9         |  20% \n",
      "proj4-5.2.0          | 3.1 MB    | ##1        |  21% \n",
      "proj4-5.2.0          | 3.1 MB    | ##2        |  23% \n",
      "proj4-5.2.0          | 3.1 MB    | ##4        |  24% \n",
      "proj4-5.2.0          | 3.1 MB    | ##5        |  26% \n",
      "proj4-5.2.0          | 3.1 MB    | ##7        |  27% \n",
      "proj4-5.2.0          | 3.1 MB    | ##8        |  29% \n",
      "proj4-5.2.0          | 3.1 MB    | ###        |  31% \n",
      "proj4-5.2.0          | 3.1 MB    | ###2       |  32% \n",
      "proj4-5.2.0          | 3.1 MB    | ###3       |  34% \n",
      "proj4-5.2.0          | 3.1 MB    | ###5       |  35% \n",
      "proj4-5.2.0          | 3.1 MB    | ###6       |  37% \n",
      "proj4-5.2.0          | 3.1 MB    | ###8       |  38% \n",
      "proj4-5.2.0          | 3.1 MB    | ####       |  40% \n",
      "proj4-5.2.0          | 3.1 MB    | ####1      |  42% \n",
      "proj4-5.2.0          | 3.1 MB    | ####3      |  43% \n",
      "proj4-5.2.0          | 3.1 MB    | ####4      |  45% \n",
      "proj4-5.2.0          | 3.1 MB    | ####6      |  46% \n",
      "proj4-5.2.0          | 3.1 MB    | ####7      |  48% \n",
      "proj4-5.2.0          | 3.1 MB    | ####9      |  49% \n",
      "proj4-5.2.0          | 3.1 MB    | #####      |  51% \n",
      "proj4-5.2.0          | 3.1 MB    | #####2     |  52% \n",
      "proj4-5.2.0          | 3.1 MB    | #####3     |  54% \n",
      "proj4-5.2.0          | 3.1 MB    | #####5     |  55% \n",
      "proj4-5.2.0          | 3.1 MB    | #####6     |  57% \n",
      "proj4-5.2.0          | 3.1 MB    | #####8     |  58% \n",
      "proj4-5.2.0          | 3.1 MB    | #####9     |  60% \n",
      "proj4-5.2.0          | 3.1 MB    | ######1    |  61% \n",
      "proj4-5.2.0          | 3.1 MB    | ######2    |  63% \n",
      "proj4-5.2.0          | 3.1 MB    | ######4    |  64% \n",
      "proj4-5.2.0          | 3.1 MB    | ######5    |  66% \n",
      "proj4-5.2.0          | 3.1 MB    | ######7    |  67% \n",
      "proj4-5.2.0          | 3.1 MB    | ######8    |  69% \n",
      "proj4-5.2.0          | 3.1 MB    | #######    |  70% \n",
      "proj4-5.2.0          | 3.1 MB    | #######1   |  72% \n",
      "proj4-5.2.0          | 3.1 MB    | #######3   |  73% \n",
      "proj4-5.2.0          | 3.1 MB    | #######4   |  75% \n",
      "proj4-5.2.0          | 3.1 MB    | #######6   |  76% \n",
      "proj4-5.2.0          | 3.1 MB    | #######7   |  78% \n",
      "proj4-5.2.0          | 3.1 MB    | #######9   |  79% \n",
      "proj4-5.2.0          | 3.1 MB    | ########   |  81% \n",
      "proj4-5.2.0          | 3.1 MB    | ########2  |  82% \n",
      "proj4-5.2.0          | 3.1 MB    | ########4  |  84% \n",
      "proj4-5.2.0          | 3.1 MB    | ########5  |  86% \n",
      "proj4-5.2.0          | 3.1 MB    | ########7  |  87% \n",
      "proj4-5.2.0          | 3.1 MB    | ########9  |  89% \n",
      "proj4-5.2.0          | 3.1 MB    | #########  |  91% \n",
      "proj4-5.2.0          | 3.1 MB    | #########2 |  92% \n",
      "proj4-5.2.0          | 3.1 MB    | #########3 |  94% \n",
      "proj4-5.2.0          | 3.1 MB    | #########5 |  96% \n",
      "proj4-5.2.0          | 3.1 MB    | #########7 |  98% \n",
      "proj4-5.2.0          | 3.1 MB    | #########9 | 100% \n",
      "proj4-5.2.0          | 3.1 MB    | ########## | 100% \n",
      "\n",
      "geos-3.8.0           | 905 KB    |            |   0% \n",
      "geos-3.8.0           | 905 KB    | 1          |   2% \n",
      "geos-3.8.0           | 905 KB    | 7          |   7% \n",
      "geos-3.8.0           | 905 KB    | #2         |  12% \n",
      "geos-3.8.0           | 905 KB    | #7         |  18% \n",
      "geos-3.8.0           | 905 KB    | ##2        |  23% \n",
      "geos-3.8.0           | 905 KB    | ##8        |  28% \n",
      "geos-3.8.0           | 905 KB    | ###3       |  34% \n",
      "geos-3.8.0           | 905 KB    | ###8       |  39% \n",
      "geos-3.8.0           | 905 KB    | ####4      |  44% \n",
      "geos-3.8.0           | 905 KB    | ####9      |  50% \n",
      "geos-3.8.0           | 905 KB    | #####4     |  55% \n",
      "geos-3.8.0           | 905 KB    | ######     |  60% \n",
      "geos-3.8.0           | 905 KB    | ######5    |  65% \n",
      "geos-3.8.0           | 905 KB    | #######    |  71% \n",
      "geos-3.8.0           | 905 KB    | #######6   |  76% \n",
      "geos-3.8.0           | 905 KB    | ########1  |  81% \n",
      "geos-3.8.0           | 905 KB    | ########6  |  87% \n",
      "geos-3.8.0           | 905 KB    | #########1 |  92% \n",
      "geos-3.8.0           | 905 KB    | #########7 |  97% \n",
      "geos-3.8.0           | 905 KB    | ########## | 100% \n",
      "\n",
      "pyproj-1.9.6         | 233 KB    |            |   0% \n",
      "pyproj-1.9.6         | 233 KB    | 6          |   7% \n",
      "pyproj-1.9.6         | 233 KB    | ##         |  21% \n",
      "pyproj-1.9.6         | 233 KB    | ####1      |  41% \n",
      "pyproj-1.9.6         | 233 KB    | ######1    |  62% \n",
      "pyproj-1.9.6         | 233 KB    | #######5   |  76% \n",
      "pyproj-1.9.6         | 233 KB    | ########## | 100% \n",
      "pyproj-1.9.6         | 233 KB    | ########## | 100% \n",
      "\n",
      "conda-4.8.4          | 2.9 MB    |            |   0% \n",
      "conda-4.8.4          | 2.9 MB    |            |   1% \n",
      "conda-4.8.4          | 2.9 MB    | 2          |   2% \n",
      "conda-4.8.4          | 2.9 MB    | 3          |   4% \n",
      "conda-4.8.4          | 2.9 MB    | 4          |   5% \n",
      "conda-4.8.4          | 2.9 MB    | 7          |   7% \n",
      "conda-4.8.4          | 2.9 MB    | 9          |   9% \n",
      "conda-4.8.4          | 2.9 MB    | #          |  11% \n",
      "conda-4.8.4          | 2.9 MB    | #2         |  13% \n",
      "conda-4.8.4          | 2.9 MB    | #4         |  15% \n",
      "conda-4.8.4          | 2.9 MB    | #6         |  16% \n",
      "conda-4.8.4          | 2.9 MB    | #8         |  18% \n",
      "conda-4.8.4          | 2.9 MB    | #9         |  20% \n",
      "conda-4.8.4          | 2.9 MB    | ##1        |  21% \n",
      "conda-4.8.4          | 2.9 MB    | ##2        |  23% \n",
      "conda-4.8.4          | 2.9 MB    | ##4        |  25% \n",
      "conda-4.8.4          | 2.9 MB    | ##6        |  26% \n",
      "conda-4.8.4          | 2.9 MB    | ##7        |  28% \n",
      "conda-4.8.4          | 2.9 MB    | ##9        |  30% \n",
      "conda-4.8.4          | 2.9 MB    | ###1       |  31% \n",
      "conda-4.8.4          | 2.9 MB    | ###2       |  33% \n",
      "conda-4.8.4          | 2.9 MB    | ###4       |  34% \n",
      "conda-4.8.4          | 2.9 MB    | ###6       |  36% \n",
      "conda-4.8.4          | 2.9 MB    | ###7       |  38% \n",
      "conda-4.8.4          | 2.9 MB    | ###9       |  39% \n",
      "conda-4.8.4          | 2.9 MB    | ####1      |  41% \n",
      "conda-4.8.4          | 2.9 MB    | ####2      |  43% \n",
      "conda-4.8.4          | 2.9 MB    | ####4      |  45% \n",
      "conda-4.8.4          | 2.9 MB    | ####7      |  47% \n",
      "conda-4.8.4          | 2.9 MB    | ####9      |  49% \n",
      "conda-4.8.4          | 2.9 MB    | #####      |  51% \n",
      "conda-4.8.4          | 2.9 MB    | #####2     |  53% \n",
      "conda-4.8.4          | 2.9 MB    | #####4     |  54% \n",
      "conda-4.8.4          | 2.9 MB    | #####5     |  56% \n",
      "conda-4.8.4          | 2.9 MB    | #####7     |  57% \n",
      "conda-4.8.4          | 2.9 MB    | #####9     |  59% \n",
      "conda-4.8.4          | 2.9 MB    | ######     |  61% \n",
      "conda-4.8.4          | 2.9 MB    | ######2    |  62% \n",
      "conda-4.8.4          | 2.9 MB    | ######4    |  65% \n",
      "conda-4.8.4          | 2.9 MB    | ######6    |  66% \n",
      "conda-4.8.4          | 2.9 MB    | ######7    |  68% \n",
      "conda-4.8.4          | 2.9 MB    | #######    |  70% \n",
      "conda-4.8.4          | 2.9 MB    | #######1   |  72% \n",
      "conda-4.8.4          | 2.9 MB    | #######3   |  73% \n",
      "conda-4.8.4          | 2.9 MB    | #######4   |  75% \n",
      "conda-4.8.4          | 2.9 MB    | #######6   |  77% \n",
      "conda-4.8.4          | 2.9 MB    | #######8   |  78% \n",
      "conda-4.8.4          | 2.9 MB    | #######9   |  80% \n",
      "conda-4.8.4          | 2.9 MB    | ########1  |  82% \n",
      "conda-4.8.4          | 2.9 MB    | ########3  |  83% \n",
      "conda-4.8.4          | 2.9 MB    | ########4  |  85% \n",
      "conda-4.8.4          | 2.9 MB    | ########6  |  87% \n",
      "conda-4.8.4          | 2.9 MB    | ########9  |  89% \n",
      "conda-4.8.4          | 2.9 MB    | #########  |  91% \n",
      "conda-4.8.4          | 2.9 MB    | #########2 |  92% \n",
      "conda-4.8.4          | 2.9 MB    | #########4 |  94% \n",
      "conda-4.8.4          | 2.9 MB    | #########5 |  96% \n",
      "conda-4.8.4          | 2.9 MB    | #########7 |  97% \n",
      "conda-4.8.4          | 2.9 MB    | #########9 |  99% \n",
      "conda-4.8.4          | 2.9 MB    | ########## | 100% \n",
      "\n",
      "openssl-1.1.1d       | 4.8 MB    |            |   0% \n",
      "openssl-1.1.1d       | 4.8 MB    |            |   0% \n",
      "openssl-1.1.1d       | 4.8 MB    | 1          |   1% \n",
      "openssl-1.1.1d       | 4.8 MB    | 2          |   2% \n",
      "openssl-1.1.1d       | 4.8 MB    | 3          |   3% \n",
      "openssl-1.1.1d       | 4.8 MB    | 4          |   4% \n",
      "openssl-1.1.1d       | 4.8 MB    | 5          |   5% \n",
      "openssl-1.1.1d       | 4.8 MB    | 6          |   6% \n",
      "openssl-1.1.1d       | 4.8 MB    | 7          |   7% \n",
      "openssl-1.1.1d       | 4.8 MB    | 8          |   8% \n",
      "openssl-1.1.1d       | 4.8 MB    | 9          |   9% \n",
      "openssl-1.1.1d       | 4.8 MB    | #          |  10% \n",
      "openssl-1.1.1d       | 4.8 MB    | #1         |  11% \n",
      "openssl-1.1.1d       | 4.8 MB    | #2         |  12% \n",
      "openssl-1.1.1d       | 4.8 MB    | #3         |  14% \n",
      "openssl-1.1.1d       | 4.8 MB    | #4         |  15% \n",
      "openssl-1.1.1d       | 4.8 MB    | #5         |  16% \n",
      "openssl-1.1.1d       | 4.8 MB    | #6         |  17% \n",
      "openssl-1.1.1d       | 4.8 MB    | #8         |  18% \n",
      "openssl-1.1.1d       | 4.8 MB    | #9         |  19% \n",
      "openssl-1.1.1d       | 4.8 MB    | ##         |  20% \n",
      "openssl-1.1.1d       | 4.8 MB    | ##1        |  21% \n",
      "openssl-1.1.1d       | 4.8 MB    | ##2        |  22% \n",
      "openssl-1.1.1d       | 4.8 MB    | ##3        |  23% \n",
      "openssl-1.1.1d       | 4.8 MB    | ##4        |  24% \n",
      "openssl-1.1.1d       | 4.8 MB    | ##5        |  25% \n",
      "openssl-1.1.1d       | 4.8 MB    | ##6        |  26% \n",
      "openssl-1.1.1d       | 4.8 MB    | ##7        |  28% \n",
      "openssl-1.1.1d       | 4.8 MB    | ##8        |  29% \n",
      "openssl-1.1.1d       | 4.8 MB    | ##9        |  30% \n",
      "openssl-1.1.1d       | 4.8 MB    | ###        |  31% \n",
      "openssl-1.1.1d       | 4.8 MB    | ###1       |  32% \n",
      "openssl-1.1.1d       | 4.8 MB    | ###2       |  33% \n",
      "openssl-1.1.1d       | 4.8 MB    | ###3       |  34% \n",
      "openssl-1.1.1d       | 4.8 MB    | ###4       |  35% \n",
      "openssl-1.1.1d       | 4.8 MB    | ###5       |  36% \n",
      "openssl-1.1.1d       | 4.8 MB    | ###6       |  37% \n",
      "openssl-1.1.1d       | 4.8 MB    | ###7       |  38% \n",
      "openssl-1.1.1d       | 4.8 MB    | ###8       |  39% \n",
      "openssl-1.1.1d       | 4.8 MB    | ###9       |  40% \n",
      "openssl-1.1.1d       | 4.8 MB    | ####       |  41% \n",
      "openssl-1.1.1d       | 4.8 MB    | ####1      |  42% \n",
      "openssl-1.1.1d       | 4.8 MB    | ####2      |  43% \n",
      "openssl-1.1.1d       | 4.8 MB    | ####3      |  44% \n",
      "openssl-1.1.1d       | 4.8 MB    | ####4      |  45% \n",
      "openssl-1.1.1d       | 4.8 MB    | ####5      |  46% \n",
      "openssl-1.1.1d       | 4.8 MB    | ####6      |  47% \n",
      "openssl-1.1.1d       | 4.8 MB    | ####7      |  48% \n",
      "openssl-1.1.1d       | 4.8 MB    | ####8      |  49% \n",
      "openssl-1.1.1d       | 4.8 MB    | ####9      |  50% \n",
      "openssl-1.1.1d       | 4.8 MB    | #####      |  51% \n",
      "openssl-1.1.1d       | 4.8 MB    | #####2     |  52% \n",
      "openssl-1.1.1d       | 4.8 MB    | #####3     |  54% \n",
      "openssl-1.1.1d       | 4.8 MB    | #####4     |  55% \n",
      "openssl-1.1.1d       | 4.8 MB    | #####5     |  56% \n",
      "openssl-1.1.1d       | 4.8 MB    | #####6     |  57% \n",
      "openssl-1.1.1d       | 4.8 MB    | #####7     |  58% \n",
      "openssl-1.1.1d       | 4.8 MB    | #####9     |  59% \n",
      "openssl-1.1.1d       | 4.8 MB    | ######     |  60% \n",
      "openssl-1.1.1d       | 4.8 MB    | ######1    |  61% \n",
      "openssl-1.1.1d       | 4.8 MB    | ######2    |  62% \n",
      "openssl-1.1.1d       | 4.8 MB    | ######3    |  63% \n",
      "openssl-1.1.1d       | 4.8 MB    | ######4    |  64% \n",
      "openssl-1.1.1d       | 4.8 MB    | ######5    |  65% \n",
      "openssl-1.1.1d       | 4.8 MB    | ######6    |  66% \n",
      "openssl-1.1.1d       | 4.8 MB    | ######7    |  67% \n",
      "openssl-1.1.1d       | 4.8 MB    | ######8    |  68% \n",
      "openssl-1.1.1d       | 4.8 MB    | ######9    |  69% \n",
      "openssl-1.1.1d       | 4.8 MB    | #######    |  70% \n",
      "openssl-1.1.1d       | 4.8 MB    | #######1   |  71% \n",
      "openssl-1.1.1d       | 4.8 MB    | #######2   |  72% \n",
      "openssl-1.1.1d       | 4.8 MB    | #######3   |  74% \n",
      "openssl-1.1.1d       | 4.8 MB    | #######5   |  75% \n",
      "openssl-1.1.1d       | 4.8 MB    | #######5   |  76% \n",
      "openssl-1.1.1d       | 4.8 MB    | #######6   |  77% \n",
      "openssl-1.1.1d       | 4.8 MB    | #######7   |  78% \n",
      "openssl-1.1.1d       | 4.8 MB    | #######8   |  79% \n",
      "openssl-1.1.1d       | 4.8 MB    | #######9   |  80% \n",
      "openssl-1.1.1d       | 4.8 MB    | ########   |  81% \n",
      "openssl-1.1.1d       | 4.8 MB    | ########1  |  82% \n",
      "openssl-1.1.1d       | 4.8 MB    | ########2  |  83% \n",
      "openssl-1.1.1d       | 4.8 MB    | ########3  |  84% \n",
      "openssl-1.1.1d       | 4.8 MB    | ########4  |  85% \n",
      "openssl-1.1.1d       | 4.8 MB    | ########5  |  86% \n",
      "openssl-1.1.1d       | 4.8 MB    | ########6  |  87% \n",
      "openssl-1.1.1d       | 4.8 MB    | ########7  |  88% \n",
      "openssl-1.1.1d       | 4.8 MB    | ########8  |  89% \n",
      "openssl-1.1.1d       | 4.8 MB    | ########9  |  90% \n",
      "openssl-1.1.1d       | 4.8 MB    | #########  |  91% \n",
      "openssl-1.1.1d       | 4.8 MB    | #########1 |  92% \n",
      "openssl-1.1.1d       | 4.8 MB    | #########2 |  93% \n",
      "openssl-1.1.1d       | 4.8 MB    | #########3 |  94% \n",
      "openssl-1.1.1d       | 4.8 MB    | #########4 |  95% \n",
      "openssl-1.1.1d       | 4.8 MB    | #########5 |  96% \n",
      "openssl-1.1.1d       | 4.8 MB    | #########6 |  97% \n",
      "openssl-1.1.1d       | 4.8 MB    | #########7 |  98% \n",
      "openssl-1.1.1d       | 4.8 MB    | #########8 |  99% \n",
      "openssl-1.1.1d       | 4.8 MB    | #########9 | 100% \n",
      "openssl-1.1.1d       | 4.8 MB    | ########## | 100% \n",
      "Preparing transaction: ...working... done\n",
      "Verifying transaction: ...working... done\n",
      "Executing transaction: ...working... done\n",
      "\n",
      "Note: you may need to restart the kernel to use updated packages.\n"
     ]
    }
   ],
   "source": [
    "conda install basemap"
   ]
  },
  {
   "cell_type": "code",
   "execution_count": 148,
   "metadata": {},
   "outputs": [
    {
     "ename": "KeyError",
     "evalue": "'PROJ_LIB'",
     "output_type": "error",
     "traceback": [
      "\u001b[1;31m---------------------------------------------------------------------------\u001b[0m",
      "\u001b[1;31mKeyError\u001b[0m                                  Traceback (most recent call last)",
      "\u001b[1;32m<ipython-input-148-f598e0754385>\u001b[0m in \u001b[0;36m<module>\u001b[1;34m\u001b[0m\n\u001b[0;32m      3\u001b[0m \u001b[1;32mimport\u001b[0m \u001b[0mseaborn\u001b[0m \u001b[1;32mas\u001b[0m \u001b[0msns\u001b[0m\u001b[1;33m\u001b[0m\u001b[1;33m\u001b[0m\u001b[0m\n\u001b[0;32m      4\u001b[0m \u001b[1;32mimport\u001b[0m \u001b[0mmatplotlib\u001b[0m\u001b[1;33m.\u001b[0m\u001b[0mpyplot\u001b[0m \u001b[1;32mas\u001b[0m \u001b[0mplt\u001b[0m\u001b[1;33m\u001b[0m\u001b[1;33m\u001b[0m\u001b[0m\n\u001b[1;32m----> 5\u001b[1;33m \u001b[1;32mfrom\u001b[0m \u001b[0mmpl_toolkits\u001b[0m\u001b[1;33m.\u001b[0m\u001b[0mbasemap\u001b[0m \u001b[1;32mimport\u001b[0m \u001b[0mBasemap\u001b[0m\u001b[1;33m\u001b[0m\u001b[1;33m\u001b[0m\u001b[0m\n\u001b[0m\u001b[0;32m      6\u001b[0m \u001b[0mget_ipython\u001b[0m\u001b[1;33m(\u001b[0m\u001b[1;33m)\u001b[0m\u001b[1;33m.\u001b[0m\u001b[0mrun_line_magic\u001b[0m\u001b[1;33m(\u001b[0m\u001b[1;34m'matplotlib'\u001b[0m\u001b[1;33m,\u001b[0m \u001b[1;34m'inline'\u001b[0m\u001b[1;33m)\u001b[0m\u001b[1;33m\u001b[0m\u001b[1;33m\u001b[0m\u001b[0m\n",
      "\u001b[1;32m~\\Anaconda3\\lib\\site-packages\\mpl_toolkits\\basemap\\__init__.py\u001b[0m in \u001b[0;36m<module>\u001b[1;34m\u001b[0m\n\u001b[0;32m    153\u001b[0m \u001b[1;33m\u001b[0m\u001b[0m\n\u001b[0;32m    154\u001b[0m \u001b[1;31m# create dictionary that maps epsg codes to Basemap kwargs.\u001b[0m\u001b[1;33m\u001b[0m\u001b[1;33m\u001b[0m\u001b[1;33m\u001b[0m\u001b[0m\n\u001b[1;32m--> 155\u001b[1;33m \u001b[0mpyproj_datadir\u001b[0m \u001b[1;33m=\u001b[0m \u001b[0mos\u001b[0m\u001b[1;33m.\u001b[0m\u001b[0menviron\u001b[0m\u001b[1;33m[\u001b[0m\u001b[1;34m'PROJ_LIB'\u001b[0m\u001b[1;33m]\u001b[0m\u001b[1;33m\u001b[0m\u001b[1;33m\u001b[0m\u001b[0m\n\u001b[0m\u001b[0;32m    156\u001b[0m \u001b[0mepsgf\u001b[0m \u001b[1;33m=\u001b[0m \u001b[0mopen\u001b[0m\u001b[1;33m(\u001b[0m\u001b[0mos\u001b[0m\u001b[1;33m.\u001b[0m\u001b[0mpath\u001b[0m\u001b[1;33m.\u001b[0m\u001b[0mjoin\u001b[0m\u001b[1;33m(\u001b[0m\u001b[0mpyproj_datadir\u001b[0m\u001b[1;33m,\u001b[0m\u001b[1;34m'epsg'\u001b[0m\u001b[1;33m)\u001b[0m\u001b[1;33m)\u001b[0m\u001b[1;33m\u001b[0m\u001b[1;33m\u001b[0m\u001b[0m\n\u001b[0;32m    157\u001b[0m \u001b[0mepsg_dict\u001b[0m\u001b[1;33m=\u001b[0m\u001b[1;33m{\u001b[0m\u001b[1;33m}\u001b[0m\u001b[1;33m\u001b[0m\u001b[1;33m\u001b[0m\u001b[0m\n",
      "\u001b[1;32m~\\Anaconda3\\lib\\os.py\u001b[0m in \u001b[0;36m__getitem__\u001b[1;34m(self, key)\u001b[0m\n\u001b[0;32m    676\u001b[0m         \u001b[1;32mexcept\u001b[0m \u001b[0mKeyError\u001b[0m\u001b[1;33m:\u001b[0m\u001b[1;33m\u001b[0m\u001b[1;33m\u001b[0m\u001b[0m\n\u001b[0;32m    677\u001b[0m             \u001b[1;31m# raise KeyError with the original key value\u001b[0m\u001b[1;33m\u001b[0m\u001b[1;33m\u001b[0m\u001b[1;33m\u001b[0m\u001b[0m\n\u001b[1;32m--> 678\u001b[1;33m             \u001b[1;32mraise\u001b[0m \u001b[0mKeyError\u001b[0m\u001b[1;33m(\u001b[0m\u001b[0mkey\u001b[0m\u001b[1;33m)\u001b[0m \u001b[1;32mfrom\u001b[0m \u001b[1;32mNone\u001b[0m\u001b[1;33m\u001b[0m\u001b[1;33m\u001b[0m\u001b[0m\n\u001b[0m\u001b[0;32m    679\u001b[0m         \u001b[1;32mreturn\u001b[0m \u001b[0mself\u001b[0m\u001b[1;33m.\u001b[0m\u001b[0mdecodevalue\u001b[0m\u001b[1;33m(\u001b[0m\u001b[0mvalue\u001b[0m\u001b[1;33m)\u001b[0m\u001b[1;33m\u001b[0m\u001b[1;33m\u001b[0m\u001b[0m\n\u001b[0;32m    680\u001b[0m \u001b[1;33m\u001b[0m\u001b[0m\n",
      "\u001b[1;31mKeyError\u001b[0m: 'PROJ_LIB'"
     ]
    }
   ],
   "source": [
    "import pandas as pd\n",
    "import numpy as np\n",
    "import seaborn as sns\n",
    "import matplotlib.pyplot as plt\n",
    "from mpl_toolkits.basemap import Basemap\n",
    "%matplotlib inline"
   ]
  },
  {
   "cell_type": "code",
   "execution_count": 4,
   "metadata": {},
   "outputs": [],
   "source": [
    "df = pd.read_excel('ANZ synthesised transaction dataset.xlsx')"
   ]
  },
  {
   "cell_type": "code",
   "execution_count": 5,
   "metadata": {},
   "outputs": [
    {
     "data": {
      "text/html": [
       "<div>\n",
       "<style scoped>\n",
       "    .dataframe tbody tr th:only-of-type {\n",
       "        vertical-align: middle;\n",
       "    }\n",
       "\n",
       "    .dataframe tbody tr th {\n",
       "        vertical-align: top;\n",
       "    }\n",
       "\n",
       "    .dataframe thead th {\n",
       "        text-align: right;\n",
       "    }\n",
       "</style>\n",
       "<table border=\"1\" class=\"dataframe\">\n",
       "  <thead>\n",
       "    <tr style=\"text-align: right;\">\n",
       "      <th></th>\n",
       "      <th>status</th>\n",
       "      <th>card_present_flag</th>\n",
       "      <th>bpay_biller_code</th>\n",
       "      <th>account</th>\n",
       "      <th>currency</th>\n",
       "      <th>long_lat</th>\n",
       "      <th>txn_description</th>\n",
       "      <th>merchant_id</th>\n",
       "      <th>merchant_code</th>\n",
       "      <th>first_name</th>\n",
       "      <th>...</th>\n",
       "      <th>age</th>\n",
       "      <th>merchant_suburb</th>\n",
       "      <th>merchant_state</th>\n",
       "      <th>extraction</th>\n",
       "      <th>amount</th>\n",
       "      <th>transaction_id</th>\n",
       "      <th>country</th>\n",
       "      <th>customer_id</th>\n",
       "      <th>merchant_long_lat</th>\n",
       "      <th>movement</th>\n",
       "    </tr>\n",
       "  </thead>\n",
       "  <tbody>\n",
       "    <tr>\n",
       "      <td>0</td>\n",
       "      <td>authorized</td>\n",
       "      <td>1.0</td>\n",
       "      <td>NaN</td>\n",
       "      <td>ACC-1598451071</td>\n",
       "      <td>AUD</td>\n",
       "      <td>153.41 -27.95</td>\n",
       "      <td>POS</td>\n",
       "      <td>81c48296-73be-44a7-befa-d053f48ce7cd</td>\n",
       "      <td>NaN</td>\n",
       "      <td>Diana</td>\n",
       "      <td>...</td>\n",
       "      <td>26</td>\n",
       "      <td>Ashmore</td>\n",
       "      <td>QLD</td>\n",
       "      <td>2018-08-01T01:01:15.000+0000</td>\n",
       "      <td>16.25</td>\n",
       "      <td>a623070bfead4541a6b0fff8a09e706c</td>\n",
       "      <td>Australia</td>\n",
       "      <td>CUS-2487424745</td>\n",
       "      <td>153.38 -27.99</td>\n",
       "      <td>debit</td>\n",
       "    </tr>\n",
       "    <tr>\n",
       "      <td>1</td>\n",
       "      <td>authorized</td>\n",
       "      <td>0.0</td>\n",
       "      <td>NaN</td>\n",
       "      <td>ACC-1598451071</td>\n",
       "      <td>AUD</td>\n",
       "      <td>153.41 -27.95</td>\n",
       "      <td>SALES-POS</td>\n",
       "      <td>830a451c-316e-4a6a-bf25-e37caedca49e</td>\n",
       "      <td>NaN</td>\n",
       "      <td>Diana</td>\n",
       "      <td>...</td>\n",
       "      <td>26</td>\n",
       "      <td>Sydney</td>\n",
       "      <td>NSW</td>\n",
       "      <td>2018-08-01T01:13:45.000+0000</td>\n",
       "      <td>14.19</td>\n",
       "      <td>13270a2a902145da9db4c951e04b51b9</td>\n",
       "      <td>Australia</td>\n",
       "      <td>CUS-2487424745</td>\n",
       "      <td>151.21 -33.87</td>\n",
       "      <td>debit</td>\n",
       "    </tr>\n",
       "    <tr>\n",
       "      <td>2</td>\n",
       "      <td>authorized</td>\n",
       "      <td>1.0</td>\n",
       "      <td>NaN</td>\n",
       "      <td>ACC-1222300524</td>\n",
       "      <td>AUD</td>\n",
       "      <td>151.23 -33.94</td>\n",
       "      <td>POS</td>\n",
       "      <td>835c231d-8cdf-4e96-859d-e9d571760cf0</td>\n",
       "      <td>NaN</td>\n",
       "      <td>Michael</td>\n",
       "      <td>...</td>\n",
       "      <td>38</td>\n",
       "      <td>Sydney</td>\n",
       "      <td>NSW</td>\n",
       "      <td>2018-08-01T01:26:15.000+0000</td>\n",
       "      <td>6.42</td>\n",
       "      <td>feb79e7ecd7048a5a36ec889d1a94270</td>\n",
       "      <td>Australia</td>\n",
       "      <td>CUS-2142601169</td>\n",
       "      <td>151.21 -33.87</td>\n",
       "      <td>debit</td>\n",
       "    </tr>\n",
       "    <tr>\n",
       "      <td>3</td>\n",
       "      <td>authorized</td>\n",
       "      <td>1.0</td>\n",
       "      <td>NaN</td>\n",
       "      <td>ACC-1037050564</td>\n",
       "      <td>AUD</td>\n",
       "      <td>153.10 -27.66</td>\n",
       "      <td>SALES-POS</td>\n",
       "      <td>48514682-c78a-4a88-b0da-2d6302e64673</td>\n",
       "      <td>NaN</td>\n",
       "      <td>Rhonda</td>\n",
       "      <td>...</td>\n",
       "      <td>40</td>\n",
       "      <td>Buderim</td>\n",
       "      <td>QLD</td>\n",
       "      <td>2018-08-01T01:38:45.000+0000</td>\n",
       "      <td>40.90</td>\n",
       "      <td>2698170da3704fd981b15e64a006079e</td>\n",
       "      <td>Australia</td>\n",
       "      <td>CUS-1614226872</td>\n",
       "      <td>153.05 -26.68</td>\n",
       "      <td>debit</td>\n",
       "    </tr>\n",
       "    <tr>\n",
       "      <td>4</td>\n",
       "      <td>authorized</td>\n",
       "      <td>1.0</td>\n",
       "      <td>NaN</td>\n",
       "      <td>ACC-1598451071</td>\n",
       "      <td>AUD</td>\n",
       "      <td>153.41 -27.95</td>\n",
       "      <td>SALES-POS</td>\n",
       "      <td>b4e02c10-0852-4273-b8fd-7b3395e32eb0</td>\n",
       "      <td>NaN</td>\n",
       "      <td>Diana</td>\n",
       "      <td>...</td>\n",
       "      <td>26</td>\n",
       "      <td>Mermaid Beach</td>\n",
       "      <td>QLD</td>\n",
       "      <td>2018-08-01T01:51:15.000+0000</td>\n",
       "      <td>3.25</td>\n",
       "      <td>329adf79878c4cf0aeb4188b4691c266</td>\n",
       "      <td>Australia</td>\n",
       "      <td>CUS-2487424745</td>\n",
       "      <td>153.44 -28.06</td>\n",
       "      <td>debit</td>\n",
       "    </tr>\n",
       "  </tbody>\n",
       "</table>\n",
       "<p>5 rows × 23 columns</p>\n",
       "</div>"
      ],
      "text/plain": [
       "       status  card_present_flag bpay_biller_code         account currency  \\\n",
       "0  authorized                1.0              NaN  ACC-1598451071      AUD   \n",
       "1  authorized                0.0              NaN  ACC-1598451071      AUD   \n",
       "2  authorized                1.0              NaN  ACC-1222300524      AUD   \n",
       "3  authorized                1.0              NaN  ACC-1037050564      AUD   \n",
       "4  authorized                1.0              NaN  ACC-1598451071      AUD   \n",
       "\n",
       "        long_lat txn_description                           merchant_id  \\\n",
       "0  153.41 -27.95             POS  81c48296-73be-44a7-befa-d053f48ce7cd   \n",
       "1  153.41 -27.95       SALES-POS  830a451c-316e-4a6a-bf25-e37caedca49e   \n",
       "2  151.23 -33.94             POS  835c231d-8cdf-4e96-859d-e9d571760cf0   \n",
       "3  153.10 -27.66       SALES-POS  48514682-c78a-4a88-b0da-2d6302e64673   \n",
       "4  153.41 -27.95       SALES-POS  b4e02c10-0852-4273-b8fd-7b3395e32eb0   \n",
       "\n",
       "   merchant_code first_name  ...  age merchant_suburb merchant_state  \\\n",
       "0            NaN      Diana  ...   26         Ashmore            QLD   \n",
       "1            NaN      Diana  ...   26          Sydney            NSW   \n",
       "2            NaN    Michael  ...   38          Sydney            NSW   \n",
       "3            NaN     Rhonda  ...   40         Buderim            QLD   \n",
       "4            NaN      Diana  ...   26   Mermaid Beach            QLD   \n",
       "\n",
       "                     extraction amount                    transaction_id  \\\n",
       "0  2018-08-01T01:01:15.000+0000  16.25  a623070bfead4541a6b0fff8a09e706c   \n",
       "1  2018-08-01T01:13:45.000+0000  14.19  13270a2a902145da9db4c951e04b51b9   \n",
       "2  2018-08-01T01:26:15.000+0000   6.42  feb79e7ecd7048a5a36ec889d1a94270   \n",
       "3  2018-08-01T01:38:45.000+0000  40.90  2698170da3704fd981b15e64a006079e   \n",
       "4  2018-08-01T01:51:15.000+0000   3.25  329adf79878c4cf0aeb4188b4691c266   \n",
       "\n",
       "     country     customer_id merchant_long_lat movement  \n",
       "0  Australia  CUS-2487424745     153.38 -27.99    debit  \n",
       "1  Australia  CUS-2487424745     151.21 -33.87    debit  \n",
       "2  Australia  CUS-2142601169     151.21 -33.87    debit  \n",
       "3  Australia  CUS-1614226872     153.05 -26.68    debit  \n",
       "4  Australia  CUS-2487424745     153.44 -28.06    debit  \n",
       "\n",
       "[5 rows x 23 columns]"
      ]
     },
     "execution_count": 5,
     "metadata": {},
     "output_type": "execute_result"
    }
   ],
   "source": [
    "df.head()"
   ]
  },
  {
   "cell_type": "code",
   "execution_count": 6,
   "metadata": {},
   "outputs": [
    {
     "data": {
      "text/plain": [
       "status                   0\n",
       "card_present_flag     4326\n",
       "bpay_biller_code     11158\n",
       "account                  0\n",
       "currency                 0\n",
       "long_lat                 0\n",
       "txn_description          0\n",
       "merchant_id           4326\n",
       "merchant_code        11160\n",
       "first_name               0\n",
       "balance                  0\n",
       "date                     0\n",
       "gender                   0\n",
       "age                      0\n",
       "merchant_suburb       4326\n",
       "merchant_state        4326\n",
       "extraction               0\n",
       "amount                   0\n",
       "transaction_id           0\n",
       "country                  0\n",
       "customer_id              0\n",
       "merchant_long_lat     4326\n",
       "movement                 0\n",
       "dtype: int64"
      ]
     },
     "execution_count": 6,
     "metadata": {},
     "output_type": "execute_result"
    }
   ],
   "source": [
    "df.isna().sum()"
   ]
  },
  {
   "cell_type": "code",
   "execution_count": 7,
   "metadata": {},
   "outputs": [
    {
     "data": {
      "text/plain": [
       "(12043, 23)"
      ]
     },
     "execution_count": 7,
     "metadata": {},
     "output_type": "execute_result"
    }
   ],
   "source": [
    "df.shape"
   ]
  },
  {
   "cell_type": "code",
   "execution_count": 8,
   "metadata": {},
   "outputs": [
    {
     "data": {
      "text/html": [
       "<div>\n",
       "<style scoped>\n",
       "    .dataframe tbody tr th:only-of-type {\n",
       "        vertical-align: middle;\n",
       "    }\n",
       "\n",
       "    .dataframe tbody tr th {\n",
       "        vertical-align: top;\n",
       "    }\n",
       "\n",
       "    .dataframe thead th {\n",
       "        text-align: right;\n",
       "    }\n",
       "</style>\n",
       "<table border=\"1\" class=\"dataframe\">\n",
       "  <thead>\n",
       "    <tr style=\"text-align: right;\">\n",
       "      <th></th>\n",
       "      <th>card_present_flag</th>\n",
       "      <th>merchant_code</th>\n",
       "      <th>balance</th>\n",
       "      <th>age</th>\n",
       "      <th>amount</th>\n",
       "    </tr>\n",
       "  </thead>\n",
       "  <tbody>\n",
       "    <tr>\n",
       "      <td>count</td>\n",
       "      <td>7717.000000</td>\n",
       "      <td>883.0</td>\n",
       "      <td>12043.000000</td>\n",
       "      <td>12043.000000</td>\n",
       "      <td>12043.000000</td>\n",
       "    </tr>\n",
       "    <tr>\n",
       "      <td>mean</td>\n",
       "      <td>0.802644</td>\n",
       "      <td>0.0</td>\n",
       "      <td>14704.195553</td>\n",
       "      <td>30.582330</td>\n",
       "      <td>187.933588</td>\n",
       "    </tr>\n",
       "    <tr>\n",
       "      <td>std</td>\n",
       "      <td>0.398029</td>\n",
       "      <td>0.0</td>\n",
       "      <td>31503.722652</td>\n",
       "      <td>10.046343</td>\n",
       "      <td>592.599934</td>\n",
       "    </tr>\n",
       "    <tr>\n",
       "      <td>min</td>\n",
       "      <td>0.000000</td>\n",
       "      <td>0.0</td>\n",
       "      <td>0.240000</td>\n",
       "      <td>18.000000</td>\n",
       "      <td>0.100000</td>\n",
       "    </tr>\n",
       "    <tr>\n",
       "      <td>25%</td>\n",
       "      <td>1.000000</td>\n",
       "      <td>0.0</td>\n",
       "      <td>3158.585000</td>\n",
       "      <td>22.000000</td>\n",
       "      <td>16.000000</td>\n",
       "    </tr>\n",
       "    <tr>\n",
       "      <td>50%</td>\n",
       "      <td>1.000000</td>\n",
       "      <td>0.0</td>\n",
       "      <td>6432.010000</td>\n",
       "      <td>28.000000</td>\n",
       "      <td>29.000000</td>\n",
       "    </tr>\n",
       "    <tr>\n",
       "      <td>75%</td>\n",
       "      <td>1.000000</td>\n",
       "      <td>0.0</td>\n",
       "      <td>12465.945000</td>\n",
       "      <td>38.000000</td>\n",
       "      <td>53.655000</td>\n",
       "    </tr>\n",
       "    <tr>\n",
       "      <td>max</td>\n",
       "      <td>1.000000</td>\n",
       "      <td>0.0</td>\n",
       "      <td>267128.520000</td>\n",
       "      <td>78.000000</td>\n",
       "      <td>8835.980000</td>\n",
       "    </tr>\n",
       "  </tbody>\n",
       "</table>\n",
       "</div>"
      ],
      "text/plain": [
       "       card_present_flag  merchant_code        balance           age  \\\n",
       "count        7717.000000          883.0   12043.000000  12043.000000   \n",
       "mean            0.802644            0.0   14704.195553     30.582330   \n",
       "std             0.398029            0.0   31503.722652     10.046343   \n",
       "min             0.000000            0.0       0.240000     18.000000   \n",
       "25%             1.000000            0.0    3158.585000     22.000000   \n",
       "50%             1.000000            0.0    6432.010000     28.000000   \n",
       "75%             1.000000            0.0   12465.945000     38.000000   \n",
       "max             1.000000            0.0  267128.520000     78.000000   \n",
       "\n",
       "             amount  \n",
       "count  12043.000000  \n",
       "mean     187.933588  \n",
       "std      592.599934  \n",
       "min        0.100000  \n",
       "25%       16.000000  \n",
       "50%       29.000000  \n",
       "75%       53.655000  \n",
       "max     8835.980000  "
      ]
     },
     "execution_count": 8,
     "metadata": {},
     "output_type": "execute_result"
    }
   ],
   "source": [
    "df.describe()"
   ]
  },
  {
   "cell_type": "code",
   "execution_count": 34,
   "metadata": {},
   "outputs": [
    {
     "data": {
      "image/png": "[encoded data removed]",
      "text/plain": [
       "<Figure size 432x288 with 1 Axes>"
      ]
     },
     "metadata": {
      "needs_background": "light"
     },
     "output_type": "display_data"
    }
   ],
   "source": [
    "sns.countplot(df.card_present_flag);"
   ]
  },
  {
   "cell_type": "code",
   "execution_count": 33,
   "metadata": {},
   "outputs": [
    {
     "data": {
      "image/png": "[encoded data removed]",
      "text/plain": [
       "<Figure size 720x360 with 1 Axes>"
      ]
     },
     "metadata": {
      "needs_background": "light"
     },
     "output_type": "display_data"
    }
   ],
   "source": [
    "plt.figure(figsize = (10,5))\n",
    "trans_plt = sns.countplot(data = df, x = 'txn_description')\n",
    "trans_plt.set_xticklabels(trans_plt.get_xticklabels(), rotation=45);"
   ]
  },
  {
   "cell_type": "code",
   "execution_count": null,
   "metadata": {},
   "outputs": [],
   "source": [
    "plt.hist(df.balance, bins = 50);\n",
    "plt.xlabel('Amount')\n",
    "plt.ylabel('Count')"
   ]
  },
  {
   "cell_type": "code",
   "execution_count": 31,
   "metadata": {},
   "outputs": [
    {
     "data": {
      "image/png": "[encoded data removed]",
      "text/plain": [
       "<Figure size 432x288 with 1 Axes>"
      ]
     },
     "metadata": {
      "needs_background": "light"
     },
     "output_type": "display_data"
    }
   ],
   "source": [
    "sns.countplot(data = df, x = 'gender');"
   ]
  },
  {
   "cell_type": "code",
   "execution_count": 30,
   "metadata": {},
   "outputs": [
    {
     "data": {
      "image/png": "[encoded data removed]",
      "text/plain": [
       "<Figure size 432x288 with 1 Axes>"
      ]
     },
     "metadata": {
      "needs_background": "light"
     },
     "output_type": "display_data"
    }
   ],
   "source": [
    "plt.hist(df.age, bins = 40);"
   ]
  },
  {
   "cell_type": "code",
   "execution_count": 28,
   "metadata": {},
   "outputs": [
    {
     "data": {
      "text/plain": [
       "Melbourne        255\n",
       "Sydney           233\n",
       "Southport         82\n",
       "Brisbane City     79\n",
       "Chatswood         55\n",
       "                ... \n",
       "Roseworthy         1\n",
       "Mayfield           1\n",
       "Munster            1\n",
       "Brendale           1\n",
       "Corio              1\n",
       "Name: merchant_suburb, Length: 1609, dtype: int64"
      ]
     },
     "execution_count": 28,
     "metadata": {},
     "output_type": "execute_result"
    }
   ],
   "source": [
    "df['merchant_suburb'].value_counts()"
   ]
  },
  {
   "cell_type": "code",
   "execution_count": 82,
   "metadata": {},
   "outputs": [
    {
     "data": {
      "text/plain": [
       "merchant_suburb\n",
       "Sydney            21675.44\n",
       "Melbourne         11943.53\n",
       "South Brisbane    11740.58\n",
       "Mascot            10282.62\n",
       "Mount Gambier      4710.25\n",
       "Malvern            3994.83\n",
       "Maribyrnong        3770.83\n",
       "Parap              3323.51\n",
       "Brisbane City      2724.45\n",
       "Mount Gravatt      2721.14\n",
       "Name: amount, dtype: float64"
      ]
     },
     "execution_count": 82,
     "metadata": {},
     "output_type": "execute_result"
    }
   ],
   "source": [
    "df.groupby('merchant_suburb')['amount'].sum().sort_values(ascending = False)[0:10]"
   ]
  },
  {
   "cell_type": "code",
   "execution_count": 83,
   "metadata": {},
   "outputs": [
    {
     "data": {
      "text/plain": [
       "merchant_suburb\n",
       "Melbourne        255\n",
       "Sydney           233\n",
       "Southport         82\n",
       "Brisbane City     79\n",
       "Chatswood         55\n",
       "Perth             45\n",
       "Adelaide          44\n",
       "Broadbeach        41\n",
       "Mount Gambier     41\n",
       "Parramatta        39\n",
       "Name: amount, dtype: int64"
      ]
     },
     "execution_count": 83,
     "metadata": {},
     "output_type": "execute_result"
    }
   ],
   "source": [
    "df.groupby('merchant_suburb')['amount'].count().sort_values(ascending = False)[0:10]\n",
    "\n",
    "#plt.plot(df.groupby('merchant_suburb')['amount'].sum())"
   ]
  },
  {
   "cell_type": "code",
   "execution_count": 39,
   "metadata": {},
   "outputs": [
    {
     "data": {
      "text/plain": [
       "NSW    2169\n",
       "VIC    2131\n",
       "QLD    1556\n",
       "WA     1100\n",
       "SA      415\n",
       "NT      205\n",
       "ACT      73\n",
       "TAS      68\n",
       "Name: merchant_state, dtype: int64"
      ]
     },
     "execution_count": 39,
     "metadata": {},
     "output_type": "execute_result"
    }
   ],
   "source": [
    "df['merchant_state'].value_counts()"
   ]
  },
  {
   "cell_type": "code",
   "execution_count": 45,
   "metadata": {},
   "outputs": [
    {
     "data": {
      "image/png": "[encoded data removed]",
      "text/plain": [
       "<Figure size 1440x360 with 1 Axes>"
      ]
     },
     "metadata": {
      "needs_background": "light"
     },
     "output_type": "display_data"
    }
   ],
   "source": [
    "plt.figure(figsize = (20,5))\n",
    "sns.countplot(data = df.groupby('merchant_state')['amount'].sum(), x = df.merchant_state);"
   ]
  },
  {
   "cell_type": "code",
   "execution_count": 46,
   "metadata": {},
   "outputs": [
    {
     "data": {
      "text/plain": [
       "Australia    12043\n",
       "Name: country, dtype: int64"
      ]
     },
     "execution_count": 46,
     "metadata": {},
     "output_type": "execute_result"
    }
   ],
   "source": [
    "df.country.value_counts()"
   ]
  },
  {
   "cell_type": "code",
   "execution_count": 47,
   "metadata": {},
   "outputs": [
    {
     "data": {
      "text/plain": [
       "<matplotlib.axes._subplots.AxesSubplot at 0x267dc5a86c8>"
      ]
     },
     "execution_count": 47,
     "metadata": {},
     "output_type": "execute_result"
    },
    {
     "data": {
      "image/png": "[encoded data removed]",
      "text/plain": [
       "<Figure size 432x288 with 1 Axes>"
      ]
     },
     "metadata": {
      "needs_background": "light"
     },
     "output_type": "display_data"
    }
   ],
   "source": [
    "sns.countplot(data = df, x = df.movement)"
   ]
  },
  {
   "cell_type": "code",
   "execution_count": 125,
   "metadata": {},
   "outputs": [],
   "source": [
    "#convert to date time format and extract the months, days, and years\n",
    "df['date'] = pd.DatetimeIndex(df.date)\n",
    "df['week_days'] = df['date'].apply(lambda x: x.strftime('%A'))\n",
    "df['months'] = df['date'].apply(lambda x: x.strftime('%m'))\n",
    "df['years'] = df['date'].apply(lambda x: x.strftime('%y'))\n",
    "\n"
   ]
  },
  {
   "cell_type": "code",
   "execution_count": 136,
   "metadata": {},
   "outputs": [
    {
     "data": {
      "image/png": "[encoded data removed]",
      "text/plain": [
       "<Figure size 432x288 with 1 Axes>"
      ]
     },
     "metadata": {
      "needs_background": "light"
     },
     "output_type": "display_data"
    }
   ],
   "source": [
    "#Transaction Volume by day\n",
    "# plt.scatter(df.week_days.unique(), df.groupby('week_days')['amount'].count().sort_values(ascending = False));\n",
    "# plt.xticks(rotation = 45);\n",
    "# plt.ylabel('Average transaction volume');\n",
    "# plt.grid();\n",
    "# plt.title('Average transaction volume by day');\n",
    "\n",
    "sns.countplot(df.week_days);\n",
    "plt.title('Total transaction volume by day');"
   ]
  },
  {
   "cell_type": "code",
   "execution_count": 130,
   "metadata": {},
   "outputs": [
    {
     "data": {
      "image/png": "[encoded data removed]",
      "text/plain": [
       "<Figure size 432x288 with 1 Axes>"
      ]
     },
     "metadata": {
      "needs_background": "light"
     },
     "output_type": "display_data"
    }
   ],
   "source": [
    "plt.scatter(df.week_days.unique(), df.groupby('week_days')['amount'].mean().sort_values(ascending = False));\n",
    "plt.xticks(rotation = 45);\n",
    "plt.ylabel('Average transaction amount');\n",
    "plt.grid();\n",
    "plt.title('Average transaction amount by day');"
   ]
  },
  {
   "cell_type": "code",
   "execution_count": 74,
   "metadata": {},
   "outputs": [
    {
     "data": {
      "text/plain": [
       "10    4087\n",
       "09    4013\n",
       "08    3943\n",
       "Name: months, dtype: int64"
      ]
     },
     "execution_count": 74,
     "metadata": {},
     "output_type": "execute_result"
    }
   ],
   "source": [
    "sns.barplot(data = df.week_days.value_counts().reset_index(), x = 'index', y= 'week_days')"
   ]
  },
  {
   "cell_type": "code",
   "execution_count": 137,
   "metadata": {},
   "outputs": [
    {
     "data": {
      "image/png": "[encoded data removed]",
      "text/plain": [
       "<Figure size 432x288 with 1 Axes>"
      ]
     },
     "metadata": {
      "needs_background": "light"
     },
     "output_type": "display_data"
    }
   ],
   "source": [
    "sns.countplot(df.months)\n",
    "plt.title(\"Total transaction volume by month\");"
   ]
  },
  {
   "cell_type": "code",
   "execution_count": 138,
   "metadata": {},
   "outputs": [],
   "source": [
    "# plt.scatter(df.months.unique(), df.groupby('months')['amount'].count().sort_values(ascending = False));\n",
    "# plt.xticks(rotation = 45);\n",
    "# plt.ylabel('Average transaction volume');\n",
    "# plt.grid();\n",
    "# plt.title('Average transaction volume by month');"
   ]
  },
  {
   "cell_type": "code",
   "execution_count": 110,
   "metadata": {},
   "outputs": [
    {
     "data": {
      "image/png": "[encoded data removed]",
      "text/plain": [
       "<Figure size 432x288 with 1 Axes>"
      ]
     },
     "metadata": {
      "needs_background": "light"
     },
     "output_type": "display_data"
    }
   ],
   "source": [
    "plt.plot(df.groupby('months')['amount'].mean());\n",
    "plt.xticks([0,1,2], ['August', 'September', 'October']);\n",
    "plt.ylabel('Average transaction amount');\n",
    "plt.grid();\n",
    "plt.title('Average transaction amount by month');"
   ]
  },
  {
   "cell_type": "code",
   "execution_count": 110,
   "metadata": {},
   "outputs": [
    {
     "data": {
      "text/plain": [
       "100"
      ]
     },
     "execution_count": 110,
     "metadata": {},
     "output_type": "execute_result"
    }
   ],
   "source": [
    "len(list(df.long_lat.unique()))"
   ]
  },
  {
   "cell_type": "code",
   "execution_count": 45,
   "metadata": {},
   "outputs": [],
   "source": [
    "long = [float(df.long_lat[j][8:]) for j in range(len(df))]\n",
    "lat = [float(df.long_lat[j][0:6]) for j in range(len(df))]\n",
    "df['long'] = long\n",
    "df['lat'] = lat"
   ]
  },
  {
   "cell_type": "code",
   "execution_count": 117,
   "metadata": {},
   "outputs": [
    {
     "data": {
      "image/png": "[encoded data removed]",
      "text/plain": [
       "<Figure size 1440x1440 with 1 Axes>"
      ]
     },
     "metadata": {
      "needs_background": "light"
     },
     "output_type": "display_data"
    }
   ],
   "source": [
    "plt.figure(figsize = (20,20))\n",
    "sns.scatterplot(data = df, x = 'long', y = 'lat')\n",
    "plt.grid()"
   ]
  },
  {
   "cell_type": "code",
   "execution_count": 141,
   "metadata": {},
   "outputs": [
    {
     "data": {
      "text/plain": [
       "long_lat\n",
       "153.41 -27.95    578\n",
       "151.23 -33.94    303\n",
       "116.06 -32.00    292\n",
       "145.45 -37.74    260\n",
       "153.10 -27.66    259\n",
       "                ... \n",
       "149.03 -35.25     40\n",
       "149.19 -21.15     37\n",
       "145.09 -37.82     34\n",
       "130.98 -12.49     31\n",
       "147.61 -37.82     25\n",
       "Name: amount, Length: 100, dtype: int64"
      ]
     },
     "execution_count": 141,
     "metadata": {},
     "output_type": "execute_result"
    }
   ],
   "source": [
    "df.groupby('long_lat')['amount'].count().sort_values(ascending = False)"
   ]
  },
  {
   "cell_type": "code",
   "execution_count": 122,
   "metadata": {},
   "outputs": [
    {
     "data": {
      "text/plain": [
       "long_lat\n",
       "130.98 -12.49    693.632903\n",
       "153.02 -27.66    567.614500\n",
       "115.83 -31.90    515.583846\n",
       "149.83 -29.47    497.669474\n",
       "144.66 -37.91    489.220980\n",
       "148.16 -23.52    448.658413\n",
       "147.61 -37.82    426.108800\n",
       "116.02 -31.87    418.742468\n",
       "149.19 -21.15    392.840811\n",
       "144.96 -37.84    375.681089\n",
       "149.03 -35.25    355.400250\n",
       "115.81 -31.82    339.843700\n",
       "144.98 -37.84    335.183673\n",
       "151.18 -33.80    333.786596\n",
       "145.09 -37.82    318.977941\n",
       "151.27 -33.90    317.661765\n",
       "145.01 -37.93    314.383571\n",
       "151.23 -33.96    314.324298\n",
       "115.79 -31.94    309.047903\n",
       "144.96 -37.69    307.334318\n",
       "143.88 -37.66    304.375604\n",
       "Name: amount, dtype: float64"
      ]
     },
     "execution_count": 122,
     "metadata": {},
     "output_type": "execute_result"
    }
   ],
   "source": [
    "df.groupby('long_lat')['amount'].mean().sort_values(ascending = False)[0:21]"
   ]
  },
  {
   "cell_type": "code",
   "execution_count": null,
   "metadata": {},
   "outputs": [],
   "source": []
  },
  {
   "cell_type": "code",
   "execution_count": null,
   "metadata": {},
   "outputs": [],
   "source": []
  }
 ],
 "metadata": {
  "kernelspec": {
   "display_name": "Python 3",
   "language": "python",
   "name": "python3"
  }
 },
 "nbformat": 4,
 "nbformat_minor": 2
}
